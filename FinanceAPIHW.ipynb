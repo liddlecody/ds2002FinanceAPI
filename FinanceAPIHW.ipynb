{
  "nbformat": 4,
  "nbformat_minor": 0,
  "metadata": {
    "colab": {
      "provenance": [],
      "authorship_tag": "ABX9TyMYArKfRs4Jl7nxbVaGD5nt",
      "include_colab_link": true
    },
    "kernelspec": {
      "name": "python3",
      "display_name": "Python 3"
    },
    "language_info": {
      "name": "python"
    }
  },
  "cells": [
    {
      "cell_type": "markdown",
      "metadata": {
        "id": "view-in-github",
        "colab_type": "text"
      },
      "source": [
        "<a href=\"https://colab.research.google.com/github/liddlecody/ds2002FinanceAPI/blob/main/FinanceAPIHW.ipynb\" target=\"_parent\"><img src=\"https://colab.research.google.com/assets/colab-badge.svg\" alt=\"Open In Colab\"/></a>"
      ]
    },
    {
      "cell_type": "code",
      "execution_count": 2,
      "metadata": {
        "id": "keEGmo3GES5m"
      },
      "outputs": [],
      "source": [
        "import json\n",
        "import pandas as pd\n",
        "import requests"
      ]
    },
    {
      "cell_type": "markdown",
      "source": [
        "## Task 1"
      ],
      "metadata": {
        "id": "CtPyy1A3Eywt"
      }
    },
    {
      "cell_type": "code",
      "source": [
        "#Enter 2 or more tickers\n",
        "stocks=input()"
      ],
      "metadata": {
        "colab": {
          "base_uri": "https://localhost:8080/"
        },
        "id": "doMrY1IHFETW",
        "outputId": "6fc3e583-b1e5-432e-9dd3-6f92d5f28e36"
      },
      "execution_count": 3,
      "outputs": [
        {
          "name": "stdout",
          "output_type": "stream",
          "text": [
            "MSFT\n"
          ]
        }
      ]
    },
    {
      "cell_type": "code",
      "source": [
        "apikey=\"vn1t5x5hcw5aIWZzTjAFiayUoWaWecqs6BwEEaLB\"\n",
        "\n",
        "url = \"https://yfapi.net/v6/finance/quote\"\n",
        "\n",
        "querystring = {\"symbols\":stocks}\n",
        "\n",
        "headers = {\n",
        "    'x-api-key': apikey\n",
        "    }\n",
        "\n",
        "response = requests.request(\"GET\", url, headers=headers, params=querystring)\n",
        "\n",
        "df = pd.DataFrame(response.json()['quoteResponse']['result'])\n",
        "\n",
        "df['regularMarketPrice'] = df['regularMarketPrice'].apply(lambda x: f\"${x:,.2f}\" if pd.notna(x) else \"N/A\")\n",
        "\n",
        "#display results\n",
        "print(df[['symbol', 'longName','regularMarketPrice']])"
      ],
      "metadata": {
        "colab": {
          "base_uri": "https://localhost:8080/"
        },
        "id": "eSKya6LzEjkC",
        "outputId": "bad38e0f-8e00-4390-84f4-73ad7c0e7746"
      },
      "execution_count": 33,
      "outputs": [
        {
          "output_type": "stream",
          "name": "stdout",
          "text": [
            "  symbol               longName regularMarketPrice\n",
            "0   MSFT  Microsoft Corporation            $399.73\n"
          ]
        }
      ]
    },
    {
      "cell_type": "markdown",
      "source": [
        "## Task 2.1"
      ],
      "metadata": {
        "id": "W_aPNibyIQdx"
      }
    },
    {
      "cell_type": "code",
      "source": [
        "selected_symbol = input(\"\\nEnter a stock symbol for additional module data: \").strip().upper()\n",
        "\n",
        "module_choice = input(\"Choose a module: \").strip()"
      ],
      "metadata": {
        "colab": {
          "base_uri": "https://localhost:8080/"
        },
        "id": "BHLyHPL2H2Pc",
        "outputId": "09055e86-04ea-474d-87c8-15ec2d55f166"
      },
      "execution_count": 28,
      "outputs": [
        {
          "name": "stdout",
          "output_type": "stream",
          "text": [
            "\n",
            "Enter a stock symbol for additional module data: AAPL\n",
            "Choose a module: defaultKeyStatistics\n"
          ]
        }
      ]
    },
    {
      "cell_type": "code",
      "source": [
        "summary_url = f\"https://yfapi.net/v11/finance/quoteSummary/{selected_symbol}\"\n",
        "\n",
        "modules = module_choice +',financialData,summaryDetail'\n",
        "\n",
        "querystring_module = {\"modules\": modules}\n",
        "\n",
        "\n",
        "response_module = requests.request(\"GET\", url=summary_url, headers=headers, params=querystring_module)\n",
        "data_module = response_module.json()\n",
        "result = data_module.get(\"quoteSummary\", {}).get(\"result\")\n",
        "\n",
        "requested_module = result[0].get(module_choice, {})\n",
        "\n",
        "financial_data = result[0].get(\"financialData\", {})\n",
        "roa = financial_data.get(\"returnOnAssets\", {}).get(\"fmt\", \"N/A\")\n",
        "summary_detail = result[0].get(\"summaryDetail\", {})\n",
        "week_high = summary_detail.get(\"fiftyTwoWeekHigh\", {}).get(\"fmt\", \"N/A\")\n",
        "week_low = summary_detail.get(\"fiftyTwoWeekLow\", {}).get(\"fmt\", \"N/A\")\n",
        "\n",
        "data = {\n",
        "    f\"{module_choice}\": requested_module,\n",
        "    \"returnOnAssets\": roa,\n",
        "    \"fiftyTwoWeekHigh\": week_high,\n",
        "    \"fiftyTwoWeekLow\": week_low\n",
        "}\n",
        "\n",
        "df = pd.DataFrame([data])\n",
        "\n",
        "print(f'Requested module and finacial data for {selected_symbol}')\n",
        "df\n"
      ],
      "metadata": {
        "colab": {
          "base_uri": "https://localhost:8080/",
          "height": 107
        },
        "id": "U_XzyUvC1C1w",
        "outputId": "aeeed34e-3632-4945-fb14-890c21a6eb01"
      },
      "execution_count": 29,
      "outputs": [
        {
          "output_type": "stream",
          "name": "stdout",
          "text": [
            "Requested module and finacial data for AAPL\n"
          ]
        },
        {
          "output_type": "execute_result",
          "data": {
            "text/plain": [
              "                                defaultKeyStatistics returnOnAssets  \\\n",
              "0  {'maxAge': 1, 'priceHint': {'raw': 2, 'fmt': '...         22.52%   \n",
              "\n",
              "  fiftyTwoWeekHigh fiftyTwoWeekLow  \n",
              "0           260.10          164.08  "
            ],
            "text/html": [
              "\n",
              "  <div id=\"df-fe77ec05-5731-4263-b6ad-53e700a83cd0\" class=\"colab-df-container\">\n",
              "    <div>\n",
              "<style scoped>\n",
              "    .dataframe tbody tr th:only-of-type {\n",
              "        vertical-align: middle;\n",
              "    }\n",
              "\n",
              "    .dataframe tbody tr th {\n",
              "        vertical-align: top;\n",
              "    }\n",
              "\n",
              "    .dataframe thead th {\n",
              "        text-align: right;\n",
              "    }\n",
              "</style>\n",
              "<table border=\"1\" class=\"dataframe\">\n",
              "  <thead>\n",
              "    <tr style=\"text-align: right;\">\n",
              "      <th></th>\n",
              "      <th>defaultKeyStatistics</th>\n",
              "      <th>returnOnAssets</th>\n",
              "      <th>fiftyTwoWeekHigh</th>\n",
              "      <th>fiftyTwoWeekLow</th>\n",
              "    </tr>\n",
              "  </thead>\n",
              "  <tbody>\n",
              "    <tr>\n",
              "      <th>0</th>\n",
              "      <td>{'maxAge': 1, 'priceHint': {'raw': 2, 'fmt': '...</td>\n",
              "      <td>22.52%</td>\n",
              "      <td>260.10</td>\n",
              "      <td>164.08</td>\n",
              "    </tr>\n",
              "  </tbody>\n",
              "</table>\n",
              "</div>\n",
              "    <div class=\"colab-df-buttons\">\n",
              "\n",
              "  <div class=\"colab-df-container\">\n",
              "    <button class=\"colab-df-convert\" onclick=\"convertToInteractive('df-fe77ec05-5731-4263-b6ad-53e700a83cd0')\"\n",
              "            title=\"Convert this dataframe to an interactive table.\"\n",
              "            style=\"display:none;\">\n",
              "\n",
              "  <svg xmlns=\"http://www.w3.org/2000/svg\" height=\"24px\" viewBox=\"0 -960 960 960\">\n",
              "    <path d=\"M120-120v-720h720v720H120Zm60-500h600v-160H180v160Zm220 220h160v-160H400v160Zm0 220h160v-160H400v160ZM180-400h160v-160H180v160Zm440 0h160v-160H620v160ZM180-180h160v-160H180v160Zm440 0h160v-160H620v160Z\"/>\n",
              "  </svg>\n",
              "    </button>\n",
              "\n",
              "  <style>\n",
              "    .colab-df-container {\n",
              "      display:flex;\n",
              "      gap: 12px;\n",
              "    }\n",
              "\n",
              "    .colab-df-convert {\n",
              "      background-color: #E8F0FE;\n",
              "      border: none;\n",
              "      border-radius: 50%;\n",
              "      cursor: pointer;\n",
              "      display: none;\n",
              "      fill: #1967D2;\n",
              "      height: 32px;\n",
              "      padding: 0 0 0 0;\n",
              "      width: 32px;\n",
              "    }\n",
              "\n",
              "    .colab-df-convert:hover {\n",
              "      background-color: #E2EBFA;\n",
              "      box-shadow: 0px 1px 2px rgba(60, 64, 67, 0.3), 0px 1px 3px 1px rgba(60, 64, 67, 0.15);\n",
              "      fill: #174EA6;\n",
              "    }\n",
              "\n",
              "    .colab-df-buttons div {\n",
              "      margin-bottom: 4px;\n",
              "    }\n",
              "\n",
              "    [theme=dark] .colab-df-convert {\n",
              "      background-color: #3B4455;\n",
              "      fill: #D2E3FC;\n",
              "    }\n",
              "\n",
              "    [theme=dark] .colab-df-convert:hover {\n",
              "      background-color: #434B5C;\n",
              "      box-shadow: 0px 1px 3px 1px rgba(0, 0, 0, 0.15);\n",
              "      filter: drop-shadow(0px 1px 2px rgba(0, 0, 0, 0.3));\n",
              "      fill: #FFFFFF;\n",
              "    }\n",
              "  </style>\n",
              "\n",
              "    <script>\n",
              "      const buttonEl =\n",
              "        document.querySelector('#df-fe77ec05-5731-4263-b6ad-53e700a83cd0 button.colab-df-convert');\n",
              "      buttonEl.style.display =\n",
              "        google.colab.kernel.accessAllowed ? 'block' : 'none';\n",
              "\n",
              "      async function convertToInteractive(key) {\n",
              "        const element = document.querySelector('#df-fe77ec05-5731-4263-b6ad-53e700a83cd0');\n",
              "        const dataTable =\n",
              "          await google.colab.kernel.invokeFunction('convertToInteractive',\n",
              "                                                    [key], {});\n",
              "        if (!dataTable) return;\n",
              "\n",
              "        const docLinkHtml = 'Like what you see? Visit the ' +\n",
              "          '<a target=\"_blank\" href=https://colab.research.google.com/notebooks/data_table.ipynb>data table notebook</a>'\n",
              "          + ' to learn more about interactive tables.';\n",
              "        element.innerHTML = '';\n",
              "        dataTable['output_type'] = 'display_data';\n",
              "        await google.colab.output.renderOutput(dataTable, element);\n",
              "        const docLink = document.createElement('div');\n",
              "        docLink.innerHTML = docLinkHtml;\n",
              "        element.appendChild(docLink);\n",
              "      }\n",
              "    </script>\n",
              "  </div>\n",
              "\n",
              "\n",
              "  <div id=\"id_4d402665-2222-4dd6-acdc-821207a2198f\">\n",
              "    <style>\n",
              "      .colab-df-generate {\n",
              "        background-color: #E8F0FE;\n",
              "        border: none;\n",
              "        border-radius: 50%;\n",
              "        cursor: pointer;\n",
              "        display: none;\n",
              "        fill: #1967D2;\n",
              "        height: 32px;\n",
              "        padding: 0 0 0 0;\n",
              "        width: 32px;\n",
              "      }\n",
              "\n",
              "      .colab-df-generate:hover {\n",
              "        background-color: #E2EBFA;\n",
              "        box-shadow: 0px 1px 2px rgba(60, 64, 67, 0.3), 0px 1px 3px 1px rgba(60, 64, 67, 0.15);\n",
              "        fill: #174EA6;\n",
              "      }\n",
              "\n",
              "      [theme=dark] .colab-df-generate {\n",
              "        background-color: #3B4455;\n",
              "        fill: #D2E3FC;\n",
              "      }\n",
              "\n",
              "      [theme=dark] .colab-df-generate:hover {\n",
              "        background-color: #434B5C;\n",
              "        box-shadow: 0px 1px 3px 1px rgba(0, 0, 0, 0.15);\n",
              "        filter: drop-shadow(0px 1px 2px rgba(0, 0, 0, 0.3));\n",
              "        fill: #FFFFFF;\n",
              "      }\n",
              "    </style>\n",
              "    <button class=\"colab-df-generate\" onclick=\"generateWithVariable('df')\"\n",
              "            title=\"Generate code using this dataframe.\"\n",
              "            style=\"display:none;\">\n",
              "\n",
              "  <svg xmlns=\"http://www.w3.org/2000/svg\" height=\"24px\"viewBox=\"0 0 24 24\"\n",
              "       width=\"24px\">\n",
              "    <path d=\"M7,19H8.4L18.45,9,17,7.55,7,17.6ZM5,21V16.75L18.45,3.32a2,2,0,0,1,2.83,0l1.4,1.43a1.91,1.91,0,0,1,.58,1.4,1.91,1.91,0,0,1-.58,1.4L9.25,21ZM18.45,9,17,7.55Zm-12,3A5.31,5.31,0,0,0,4.9,8.1,5.31,5.31,0,0,0,1,6.5,5.31,5.31,0,0,0,4.9,4.9,5.31,5.31,0,0,0,6.5,1,5.31,5.31,0,0,0,8.1,4.9,5.31,5.31,0,0,0,12,6.5,5.46,5.46,0,0,0,6.5,12Z\"/>\n",
              "  </svg>\n",
              "    </button>\n",
              "    <script>\n",
              "      (() => {\n",
              "      const buttonEl =\n",
              "        document.querySelector('#id_4d402665-2222-4dd6-acdc-821207a2198f button.colab-df-generate');\n",
              "      buttonEl.style.display =\n",
              "        google.colab.kernel.accessAllowed ? 'block' : 'none';\n",
              "\n",
              "      buttonEl.onclick = () => {\n",
              "        google.colab.notebook.generateWithVariable('df');\n",
              "      }\n",
              "      })();\n",
              "    </script>\n",
              "  </div>\n",
              "\n",
              "    </div>\n",
              "  </div>\n"
            ],
            "application/vnd.google.colaboratory.intrinsic+json": {
              "type": "dataframe",
              "variable_name": "df",
              "summary": "{\n  \"name\": \"df\",\n  \"rows\": 1,\n  \"fields\": [\n    {\n      \"column\": \"defaultKeyStatistics\",\n      \"properties\": {\n        \"dtype\": \"object\",\n        \"semantic_type\": \"\",\n        \"description\": \"\"\n      }\n    },\n    {\n      \"column\": \"returnOnAssets\",\n      \"properties\": {\n        \"dtype\": \"string\",\n        \"num_unique_values\": 1,\n        \"samples\": [\n          \"22.52%\"\n        ],\n        \"semantic_type\": \"\",\n        \"description\": \"\"\n      }\n    },\n    {\n      \"column\": \"fiftyTwoWeekHigh\",\n      \"properties\": {\n        \"dtype\": \"string\",\n        \"num_unique_values\": 1,\n        \"samples\": [\n          \"260.10\"\n        ],\n        \"semantic_type\": \"\",\n        \"description\": \"\"\n      }\n    },\n    {\n      \"column\": \"fiftyTwoWeekLow\",\n      \"properties\": {\n        \"dtype\": \"string\",\n        \"num_unique_values\": 1,\n        \"samples\": [\n          \"164.08\"\n        ],\n        \"semantic_type\": \"\",\n        \"description\": \"\"\n      }\n    }\n  ]\n}"
            }
          },
          "metadata": {},
          "execution_count": 29
        }
      ]
    },
    {
      "cell_type": "markdown",
      "source": [
        "## Task 2.2"
      ],
      "metadata": {
        "id": "aTsXsef9-ccA"
      }
    },
    {
      "cell_type": "code",
      "source": [
        "trend_url = f\"https://yfapi.net/v1/finance/trending/US\"\n",
        "\n",
        "querystring = {\"region\":'US'}\n",
        "\n",
        "trending_response = requests.request(\"GET\", url=trend_url, headers=headers, params=querystring)\n",
        "trending_response = trending_response.json()\n",
        "\n",
        "symbols_list = [quote[\"symbol\"] for quote in trending_response[\"finance\"][\"result\"][0][\"quotes\"]]\n",
        "\n",
        "\n",
        "def chunk_list(lst, n):\n",
        "    for i in range(0, len(lst), n):\n",
        "        yield lst[i:i+n]\n",
        "\n",
        "all_stock_data = []\n",
        "\n",
        "quote_url = \"https://yfapi.net/v6/finance/quote\"\n",
        "headers = {'x-api-key': apikey}\n",
        "\n",
        "\n",
        "for batch in chunk_list(symbols_list, 10):\n",
        "    symbols_str = \",\".join(batch)\n",
        "    querystring = {\"symbols\": symbols_str}\n",
        "\n",
        "    response_quote = requests.get(quote_url, headers=headers, params=querystring)\n",
        "    data_quote = response_quote.json()\n",
        "    results = data_quote.get(\"quoteResponse\", {}).get(\"result\", [])\n",
        "\n",
        "    for item in results:\n",
        "        ticker = item.get(\"symbol\", \"N/A\")\n",
        "        name = item.get(\"longName\", item.get(\"shortName\", \"N/A\"))\n",
        "        current_price = item.get(\"regularMarketPrice\", \"N/A\")\n",
        "        week_high = item.get(\"fiftyTwoWeekHigh\", \"N/A\")\n",
        "        week_low = item.get(\"fiftyTwoWeekLow\", \"N/A\")\n",
        "\n",
        "        all_stock_data.append({\n",
        "            \"Ticker\": ticker,\n",
        "            \"Name\": name,\n",
        "            \"Current Price\": current_price,\n",
        "            \"52 Week High\": week_high,\n",
        "            \"52 Week Low\": week_low\n",
        "        })\n",
        "\n",
        "df = pd.DataFrame(all_stock_data)\n",
        "\n",
        "print(df)"
      ],
      "metadata": {
        "colab": {
          "base_uri": "https://localhost:8080/"
        },
        "id": "SXH_uSqR-fXs",
        "outputId": "f29b33e2-2bf4-4539-bdec-a090d384a3fb"
      },
      "execution_count": 31,
      "outputs": [
        {
          "output_type": "stream",
          "name": "stdout",
          "text": [
            "     Ticker                                  Name  Current Price  \\\n",
            "0      NVDA                    NVIDIA Corporation         131.28   \n",
            "1      SNOW                        Snowflake Inc.         166.19   \n",
            "2       CRM                      Salesforce, Inc.         307.33   \n",
            "3      IONQ                            IonQ, Inc.          29.93   \n",
            "4      BYND                     Beyond Meat, Inc.           3.56   \n",
            "5      MRNA                         Moderna, Inc.          33.58   \n",
            "6      MARA                   MARA Holdings, Inc.          12.45   \n",
            "7      TDOC                  Teladoc Health, Inc.          10.99   \n",
            "8   BTC-USD                           Bitcoin USD       85064.94   \n",
            "9        AI                           C3.ai, Inc.          26.44   \n",
            "10      APP                  AppLovin Corporation         331.00   \n",
            "11      NIO                              NIO Inc.           4.72   \n",
            "12     NTNX                         Nutanix, Inc.          69.35   \n",
            "13     ROOT                            Root, Inc.          98.71   \n",
            "14     EBAY                             eBay Inc.          69.14   \n",
            "15     MULN               Mullen Automotive, Inc.           4.04   \n",
            "16     PSTG                    Pure Storage, Inc.          62.44   \n",
            "17     AVGO                         Broadcom Inc.         212.94   \n",
            "18     SNPS                        Synopsys, Inc.         470.46   \n",
            "19      PBR  Petróleo Brasileiro S.A. - Petrobras          14.32   \n",
            "\n",
            "    52 Week High  52 Week Low  \n",
            "0        153.130       75.606  \n",
            "1        233.880      107.130  \n",
            "2        369.000      212.000  \n",
            "3         54.740        6.220  \n",
            "4         12.120        3.300  \n",
            "5        170.470       29.250  \n",
            "6         34.090       12.050  \n",
            "7         15.950        6.760  \n",
            "8     109114.880    49121.240  \n",
            "9         45.080       18.850  \n",
            "10       525.150       57.400  \n",
            "11         7.710        3.610  \n",
            "12        75.800       43.350  \n",
            "13       141.227       23.040  \n",
            "14        71.610       46.530  \n",
            "15     47100.000        2.290  \n",
            "16        73.670       40.950  \n",
            "17       251.880      119.756  \n",
            "18       624.800      457.000  \n",
            "19        17.830       12.550  \n"
          ]
        }
      ]
    }
  ]
}